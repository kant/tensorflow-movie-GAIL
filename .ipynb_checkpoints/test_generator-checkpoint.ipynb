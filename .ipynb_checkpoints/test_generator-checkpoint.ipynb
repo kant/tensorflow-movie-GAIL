{
 "cells": [
  {
   "cell_type": "code",
   "execution_count": 1,
   "metadata": {},
   "outputs": [],
   "source": [
    "import numpy as np"
   ]
  },
  {
   "cell_type": "code",
   "execution_count": 2,
   "metadata": {},
   "outputs": [],
   "source": [
    "def generator(data, batch_size=32):\n",
    "    shuffle_indices = np.random.randint(\n",
    "            low=0,\n",
    "            high=data.shape[1],\n",
    "            size=data.shape[1] - 1\n",
    "            )\n",
    "    while True:\n",
    "        batch = []\n",
    "        for indices in shuffle_indices:\n",
    "            x1 = data[:10, indices, :, :]\n",
    "            x2 = data[10:, indices, :, :]\n",
    "            batch.append(x1)\n",
    "            batch.append(x2)\n",
    "            if len(batch) == batch_size:\n",
    "                np_batch = np.array(batch)\n",
    "                np_batch = np.reshape(batch, (batch_size, 10, 64, 64, 1))\n",
    "                batch = []\n",
    "                yield np_batch"
   ]
  },
  {
   "cell_type": "code",
   "execution_count": 3,
   "metadata": {},
   "outputs": [],
   "source": [
    "data = np.load('../../dataset/mnist_test_seq.npy')"
   ]
  },
  {
   "cell_type": "code",
   "execution_count": 4,
   "metadata": {},
   "outputs": [],
   "source": [
    "gen = generator(data)"
   ]
  },
  {
   "cell_type": "code",
   "execution_count": 5,
   "metadata": {},
   "outputs": [
    {
     "data": {
      "text/plain": [
       "(32, 10, 64, 64, 1)"
      ]
     },
     "execution_count": 5,
     "metadata": {},
     "output_type": "execute_result"
    }
   ],
   "source": [
    "next(gen).shape"
   ]
  }
 ],
 "metadata": {
  "kernelspec": {
   "display_name": "Python 3",
   "language": "python",
   "name": "python3"
  },
  "language_info": {
   "codemirror_mode": {
    "name": "ipython",
    "version": 3
   },
   "file_extension": ".py",
   "mimetype": "text/x-python",
   "name": "python",
   "nbconvert_exporter": "python",
   "pygments_lexer": "ipython3",
   "version": "3.6.3"
  }
 },
 "nbformat": 4,
 "nbformat_minor": 2
}
