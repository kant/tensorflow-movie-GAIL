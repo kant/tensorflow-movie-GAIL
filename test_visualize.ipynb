{
 "cells": [
  {
   "cell_type": "code",
   "execution_count": 1,
   "metadata": {},
   "outputs": [
    {
     "name": "stderr",
     "output_type": "stream",
     "text": [
      "/root/.pyenv/versions/anaconda3-4.3.1/lib/python3.6/importlib/_bootstrap.py:219: RuntimeWarning: compiletime version 3.5 of module 'tensorflow.python.framework.fast_tensor_util' does not match runtime version 3.6\n",
      "  return f(*args, **kwds)\n",
      "/root/.pyenv/versions/anaconda3-4.3.1/lib/python3.6/site-packages/h5py/__init__.py:36: FutureWarning: Conversion of the second argument of issubdtype from `float` to `np.floating` is deprecated. In future, it will be treated as `np.float64 == np.dtype(float).type`.\n",
      "  from ._conv import register_converters as _register_converters\n"
     ]
    }
   ],
   "source": [
    "import os\n",
    "import copy\n",
    "import json\n",
    "import argparse\n",
    "\n",
    "import numpy as np\n",
    "from tqdm import tqdm\n",
    "import tensorflow as tf\n",
    "\n",
    "from network_models.policy_dcgan import Policy_dcgan\n",
    "from network_models.discriminator import Discriminator\n",
    "from network_models.sn_discriminator import SNDiscriminator\n",
    "from algo.ppo import PPOTrain\n",
    "from algo.trpo import TRPOTrain\n",
    "from utils import generator\n",
    "\n",
    "%load_ext autoreload\n",
    "%autoreload 2\n",
    "\n",
    "import matplotlib.pyplot as plt\n",
    "%matplotlib inline"
   ]
  },
  {
   "cell_type": "code",
   "execution_count": 2,
   "metadata": {},
   "outputs": [
    {
     "data": {
      "text/plain": [
       "{'D_step': 1,\n",
       " 'G_step': 3,\n",
       " 'algo': 'trpo',\n",
       " 'batch_size': 32,\n",
       " 'c_entropy': 0.01,\n",
       " 'c_l1': 1.0,\n",
       " 'c_vf': 0.2,\n",
       " 'data': '../../dataset/mnist_test_seq.npy',\n",
       " 'gamma': 0.95,\n",
       " 'initia_learning_rate': 0.0001,\n",
       " 'iteration': 250,\n",
       " 'leaky': True,\n",
       " 'lr_schedules': 100,\n",
       " 'obs_size': 64,\n",
       " 'vf_clip': ''}"
      ]
     },
     "execution_count": 2,
     "metadata": {},
     "output_type": "execute_result"
    }
   ],
   "source": [
    "dir_name = 'ppo_5'\n",
    "model = 'model-200.ckpt'\n",
    "log_dir = os.path.join('./log', dir_name)\n",
    "ckpt_path = os.path.join('./trained_models', dir_name, model)\n",
    "gpu_num = '0'\n",
    "batch_size = 32\n",
    "with open(os.path.join(log_dir, 'config.json'), 'r') as f:\n",
    "    config = json.load(f)\n",
    "config['obs_size'] = 64\n",
    "obs_shape = [3, config['obs_size'], config['obs_size'], 1]\n",
    "config"
   ]
  },
  {
   "cell_type": "code",
   "execution_count": 3,
   "metadata": {},
   "outputs": [],
   "source": [
    "# moving mnist 読み込み\n",
    "data_path = '../../dataset/mnist_test_seq.npy'\n",
    "data = np.load(data_path)\n",
    "# generator\n",
    "gen = generator(data,\n",
    "        batch_size=batch_size, img_size=config['obs_size'])\n",
    "expert_batch = next(gen)\n",
    "agent_batch = expert_batch[:, :3, :, :, :]"
   ]
  },
  {
   "cell_type": "code",
   "execution_count": 4,
   "metadata": {},
   "outputs": [
    {
     "name": "stdout",
     "output_type": "stream",
     "text": [
      "build trpo agent\n",
      "build dcgan discriminator\n"
     ]
    }
   ],
   "source": [
    "# policy net\n",
    "Policy = Policy_dcgan(\n",
    "        'policy',\n",
    "        obs_shape=obs_shape,\n",
    "        batch_size=batch_size,\n",
    "        decode=True,\n",
    "        leaky=config['leaky'])\n",
    "Old_Policy = Policy_dcgan(\n",
    "        'old_policy',\n",
    "        obs_shape=obs_shape,\n",
    "        batch_size=batch_size,\n",
    "        decode=True,\n",
    "        leaky=config['leaky'])\n",
    "\n",
    "if config['algo'] == 'ppo':\n",
    "    print('build ppo agent')\n",
    "    Agent = PPOTrain(\n",
    "                    Policy,\n",
    "                    Old_Policy,\n",
    "                    obs_shape=obs_shape,\n",
    "                    gamma=config['gamma'],\n",
    "                    c_vf=config['c_vf'],\n",
    "                    c_entropy=config['c_entropy'],\n",
    "                    c_l1=config['c_l1'],\n",
    "                    obs_size=64,\n",
    "                    vf_clip=config['vf_clip'])\n",
    "elif config['algo'] == 'trpo':\n",
    "    print('build trpo agent')\n",
    "    Agent = TRPOTrain(\n",
    "                    Policy,\n",
    "                    Old_Policy,\n",
    "                    obs_shape=obs_shape,\n",
    "                    gamma=config['gamma'],\n",
    "                    c_vf=config['c_vf'],\n",
    "                    c_entropy=config['c_entropy'],\n",
    "                    c_l1=config['c_l1'],\n",
    "                    obs_size=64,\n",
    "                    vf_clip=config['vf_clip'])\n",
    "else:\n",
    "    raise ValueError('Invalid algo name')\n",
    "\n",
    "if not 'spectral normalization' in config.keys():\n",
    "    config['spectral normalization'] = ''\n",
    "if config['spectral normalization']:\n",
    "    print('build sngan discriminator')\n",
    "    D = SNDiscriminator(obs_shape=obs_shape,\n",
    "                batch_size=batch_size)\n",
    "else:\n",
    "    print('build dcgan discriminator')\n",
    "    D = Discriminator(obs_shape=obs_shape,\n",
    "                batch_size=batch_size,\n",
    "                leaky=config['leaky'])"
   ]
  },
  {
   "cell_type": "code",
   "execution_count": 24,
   "metadata": {},
   "outputs": [
    {
     "name": "stdout",
     "output_type": "stream",
     "text": [
      "INFO:tensorflow:Restoring parameters from ./trained_models/trpo_1/model-200.ckpt\n"
     ]
    }
   ],
   "source": [
    "# session config\n",
    "sess_config = tf.ConfigProto(\n",
    "    gpu_options=tf.GPUOptions(\n",
    "        visible_device_list=gpu_num,\n",
    "        allow_growth=True\n",
    "        ))\n",
    "\n",
    "with tf.Session(config=sess_config) as sess:\n",
    "    saver = tf.train.Saver()\n",
    "    # initialize Session\n",
    "    sess.run(tf.global_variables_initializer())\n",
    "    saver.restore(sess, ckpt_path)\n",
    "    \n",
    "    mu, sigma = Policy.get_mu_sigma(agent_batch)"
   ]
  },
  {
   "cell_type": "code",
   "execution_count": 25,
   "metadata": {},
   "outputs": [
    {
     "data": {
      "text/plain": [
       "<matplotlib.image.AxesImage at 0x7f03cc463e10>"
      ]
     },
     "execution_count": 25,
     "metadata": {},
     "output_type": "execute_result"
    },
    {
     "data": {
      "image/png": "[encoded data removed]",
      "text/plain": [
       "<Figure size 432x288 with 1 Axes>"
      ]
     },
     "metadata": {},
     "output_type": "display_data"
    }
   ],
   "source": [
    "img = mu[0]\n",
    "img = np.reshape(img, (64, 64))\n",
    "plt.imshow(img)"
   ]
  },
  {
   "cell_type": "code",
   "execution_count": 13,
   "metadata": {},
   "outputs": [
    {
     "data": {
      "text/plain": [
       "<matplotlib.image.AxesImage at 0x7f03f871c630>"
      ]
     },
     "execution_count": 13,
     "metadata": {},
     "output_type": "execute_result"
    },
    {
     "data": {
      "image/png": "[encoded data removed]",
      "text/plain": [
       "<Figure size 432x288 with 1 Axes>"
      ]
     },
     "metadata": {},
     "output_type": "display_data"
    }
   ],
   "source": [
    "img = np.reshape(agent_batch[0][0], (64*64))\n",
    "img = np.reshape(img, (64, 64))\n",
    "plt.imshow(img)"
   ]
  },
  {
   "cell_type": "code",
   "execution_count": 12,
   "metadata": {},
   "outputs": [
    {
     "data": {
      "text/plain": [
       "<matplotlib.image.AxesImage at 0x7f03f873d908>"
      ]
     },
     "execution_count": 12,
     "metadata": {},
     "output_type": "execute_result"
    },
    {
     "data": {
      "image/png": "[encoded data removed]",
      "text/plain": [
       "<Figure size 432x288 with 1 Axes>"
      ]
     },
     "metadata": {},
     "output_type": "display_data"
    }
   ],
   "source": [
    "plt.imshow(np.squeeze(agent_batch[0][0], axis=2))"
   ]
  }
 ],
 "metadata": {
  "kernelspec": {
   "display_name": "Python 3",
   "language": "python",
   "name": "python3"
  },
  "language_info": {
   "codemirror_mode": {
    "name": "ipython",
    "version": 3
   },
   "file_extension": ".py",
   "mimetype": "text/x-python",
   "name": "python",
   "nbconvert_exporter": "python",
   "pygments_lexer": "ipython3",
   "version": "3.6.3"
  }
 },
 "nbformat": 4,
 "nbformat_minor": 2
}
