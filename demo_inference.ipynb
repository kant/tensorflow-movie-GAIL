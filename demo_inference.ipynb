{
 "cells": [
  {
   "cell_type": "code",
   "execution_count": 14,
   "metadata": {},
   "outputs": [
    {
     "name": "stdout",
     "output_type": "stream",
     "text": [
      "The autoreload extension is already loaded. To reload it, use:\n",
      "  %reload_ext autoreload\n"
     ]
    }
   ],
   "source": [
    "import os\n",
    "import copy\n",
    "import json\n",
    "import argparse\n",
    "\n",
    "import numpy as np\n",
    "from tqdm import tqdm\n",
    "import tensorflow as tf\n",
    "\n",
    "from network_models.dcgan_policy import DCGANPolicy\n",
    "from network_models.sngan_policy import SNGANPolicy\n",
    "from network_models.dcgan_discriminator import DCGANDiscriminator\n",
    "from network_models.sngan_discriminator import SNGANDiscriminator\n",
    "from algo.ppo import PPOTrain\n",
    "from algo.trpo import TRPOTrain\n",
    "from utils import generator\n",
    "\n",
    "import matplotlib.pyplot as plt\n",
    "%matplotlib inline\n",
    "\n",
    "%load_ext autoreload\n",
    "%autoreload 2"
   ]
  },
  {
   "cell_type": "code",
   "execution_count": 2,
   "metadata": {},
   "outputs": [],
   "source": [
    "model_dir = './out/ppo_1'\n",
    "ckpt_path = os.path.join(model_dir, 'model-300.ckpt')\n",
    "with open(os.path.join(model_dir, 'config.json'), 'r') as f:\n",
    "    config = json.load(f)\n",
    "obs_size = 64\n",
    "obs_shape = [3, 64, 64, 1]\n",
    "gpu = '0'\n",
    "if not 'g_sn' in config.keys():\n",
    "    config['g_sn'] = ''\n",
    "    config['d_sn'] = ''"
   ]
  },
  {
   "cell_type": "code",
   "execution_count": 3,
   "metadata": {},
   "outputs": [
    {
     "data": {
      "text/plain": [
       "{'D_step': 1,\n",
       " 'G_step': 3,\n",
       " 'algo': 'ppo',\n",
       " 'batch_size': 32,\n",
       " 'c_entropy': 0.01,\n",
       " 'c_l1': 1.0,\n",
       " 'c_vf': 0.2,\n",
       " 'd_sn': '',\n",
       " 'data': '../../dataset/mnist_test_seq.npy',\n",
       " 'g_sn': '',\n",
       " 'gamma': 0.95,\n",
       " 'initia_learning_rate': 0.0001,\n",
       " 'iteration': 300,\n",
       " 'leaky': True,\n",
       " 'lr_schedules': 100,\n",
       " 'spectral normalization': False,\n",
       " 'vf_clip': ''}"
      ]
     },
     "execution_count": 3,
     "metadata": {},
     "output_type": "execute_result"
    }
   ],
   "source": [
    "config"
   ]
  },
  {
   "cell_type": "code",
   "execution_count": 4,
   "metadata": {},
   "outputs": [],
   "source": [
    "data = np.load(config['data'])\n",
    "gen = generator(data,\n",
    "                batch_size=config['batch_size'],\n",
    "                img_size=obs_size)"
   ]
  },
  {
   "cell_type": "code",
   "execution_count": 5,
   "metadata": {},
   "outputs": [
    {
     "name": "stdout",
     "output_type": "stream",
     "text": [
      "Building DCGAN Generator as Policy Network\n",
      "Building PPO Agent\n",
      "Building DCGAN Discriminator\n"
     ]
    }
   ],
   "source": [
    "if not config['g_sn']:\n",
    "    print('Building DCGAN Generator as Policy Network')\n",
    "    # Build policy network\n",
    "    Policy = DCGANPolicy(\n",
    "            'policy',\n",
    "            obs_shape=obs_shape,\n",
    "            batch_size=config['batch_size'],\n",
    "            decode=True,\n",
    "            leaky=config['leaky'])\n",
    "    Old_Policy = DCGANPolicy(\n",
    "            'old_policy',\n",
    "            obs_shape=obs_shape,\n",
    "            batch_size=config['batch_size'],\n",
    "            decode=True,\n",
    "            leaky=config['leaky'])\n",
    "else:\n",
    "    print('Building SNGAN Generator as Policy Network')\n",
    "    Policy = SNGANPolicy(\n",
    "            'policy',\n",
    "            obs_shape=obs_shape,\n",
    "            batch_size=config['batch_size'],\n",
    "            decode=True)\n",
    "    Old_Policy = SNGANPolicy(\n",
    "            'old_policy',\n",
    "            obs_shape=obs_shape,\n",
    "            batch_size=config['batch_size'],\n",
    "            decode=True)\n",
    "\n",
    "# Build reinforcement agent\n",
    "if config['algo'] == 'ppo':\n",
    "    print('Building PPO Agent')\n",
    "    Agent = PPOTrain(\n",
    "            Policy,\n",
    "            Old_Policy,\n",
    "            obs_shape=obs_shape,\n",
    "            gamma=config['gamma'],\n",
    "            c_vf=config['c_vf'],\n",
    "            c_entropy=config['c_entropy'],\n",
    "            c_l1=config['c_l1'],\n",
    "            obs_size=obs_size,\n",
    "            vf_clip=config['vf_clip'])\n",
    "elif config['algo'] == 'trpo':\n",
    "    print('Building TRPO Agent')\n",
    "    Agent = TRPOTrain(\n",
    "            Policy,\n",
    "            Old_Policy,\n",
    "            obs_shape=obs_shape,\n",
    "            gamma=config['gamma'],\n",
    "            c_vf=config['c_vf'],\n",
    "            c_entropy=config['c_entropy'],\n",
    "            c_l1=config['c_l1'],\n",
    "            obs_size=obs_size,\n",
    "            vf_clip=config['vf_clip'])\n",
    "else:\n",
    "    raise ValueError('invalid algo name')\n",
    "\n",
    "# Build Discriminator\n",
    "if config['d_sn']:\n",
    "    print('Building SNGAN Discriminator')\n",
    "    D = SNGANDiscriminator(obs_shape=obs_shape,\n",
    "        batch_size=config['batch_size'])\n",
    "else:\n",
    "    print('Building DCGAN Discriminator')\n",
    "    D = DCGANDiscriminator(obs_shape=obs_shape,\n",
    "        batch_size=config['batch_size'],\n",
    "        leaky=config['leaky'])"
   ]
  },
  {
   "cell_type": "code",
   "execution_count": 10,
   "metadata": {},
   "outputs": [
    {
     "name": "stdout",
     "output_type": "stream",
     "text": [
      "INFO:tensorflow:Restoring parameters from ./out/ppo_1/model-300.ckpt\n"
     ]
    }
   ],
   "source": [
    "# Create tensorflow saver\n",
    "saver = tf.train.Saver()\n",
    "# session config\n",
    "sess_config = tf.ConfigProto(\n",
    "        gpu_options=tf.GPUOptions(\n",
    "            visible_device_list=gpu,\n",
    "            allow_growth=True))\n",
    "with tf.Session(config=sess_config) as sess:\n",
    "    saver.restore(sess, ckpt_path)\n",
    "    expert_batch = next(gen)\n",
    "    agent_batch = expert_batch[:, :3, :, :, :]\n",
    "    pred_batch = Policy.inference(agent_batch)"
   ]
  },
  {
   "cell_type": "code",
   "execution_count": 46,
   "metadata": {},
   "outputs": [],
   "source": [
    "img = np.reshape(pred_batch[0], (64, 64))"
   ]
  },
  {
   "cell_type": "code",
   "execution_count": 47,
   "metadata": {},
   "outputs": [
    {
     "data": {
      "text/plain": [
       "<matplotlib.image.AxesImage at 0x7f797c2e9ba8>"
      ]
     },
     "execution_count": 47,
     "metadata": {},
     "output_type": "execute_result"
    },
    {
     "data": {
      "image/png": "[encoded data removed]",
      "text/plain": [
       "<Figure size 432x288 with 1 Axes>"
      ]
     },
     "metadata": {},
     "output_type": "display_data"
    }
   ],
   "source": [
    "plt.imshow(img*255)"
   ]
  }
 ],
 "metadata": {
  "kernelspec": {
   "display_name": "Python 3",
   "language": "python",
   "name": "python3"
  },
  "language_info": {
   "codemirror_mode": {
    "name": "ipython",
    "version": 3
   },
   "file_extension": ".py",
   "mimetype": "text/x-python",
   "name": "python",
   "nbconvert_exporter": "python",
   "pygments_lexer": "ipython3",
   "version": "3.6.3"
  }
 },
 "nbformat": 4,
 "nbformat_minor": 2
}
